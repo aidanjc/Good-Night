{
 "cells": [
  {
   "cell_type": "code",
   "execution_count": 1,
   "id": "4be58262",
   "metadata": {},
   "outputs": [],
   "source": [
    "import pandas as pd\n",
    "import numpy as np\n",
    "import time\n"
   ]
  },
  {
   "cell_type": "code",
   "execution_count": 2,
   "id": "38d0395e",
   "metadata": {},
   "outputs": [
    {
     "name": "stdout",
     "output_type": "stream",
     "text": [
      "                   Start                  End Sleep Quality Regularity  Mood  \\\n",
      "0    2019-01-02 00:04:23  2019-01-02 07:57:37           70%         0%   NaN   \n",
      "1    2019-01-03 00:31:40  2019-01-03 07:40:37           65%         0%   NaN   \n",
      "2    2019-01-04 00:17:13  2019-01-04 07:41:03           68%        98%   NaN   \n",
      "3    2019-01-07 00:13:22  2019-01-07 07:40:04           63%        99%   NaN   \n",
      "4    2019-01-08 00:21:30  2019-01-08 07:52:22           77%        97%   NaN   \n",
      "..                   ...                  ...           ...        ...   ...   \n",
      "468  2023-01-20 02:01:51  2023-01-20 08:01:16           66%        84%   NaN   \n",
      "469  2023-01-21 03:37:34  2023-01-21 10:43:13           70%        78%   NaN   \n",
      "470  2023-01-22 03:36:55  2023-01-22 10:00:27           50%        79%   NaN   \n",
      "471  2023-01-23 01:32:49  2023-01-23 07:01:41           53%        72%   NaN   \n",
      "472  2023-01-23 23:21:27  2023-01-24 04:59:54           58%        72%   NaN   \n",
      "\n",
      "     Heart rate (bpm)  Steps Alarm mode  Air Pressure (Pa)  City  ...  \\\n",
      "0                   0      0     Normal              102.3   NaN  ...   \n",
      "1                   0      0     Normal              102.7   NaN  ...   \n",
      "2                   0      0     Normal              102.3   NaN  ...   \n",
      "3                   0      0     Normal              102.4   NaN  ...   \n",
      "4                   0      0     Normal              102.5   NaN  ...   \n",
      "..                ...    ...        ...                ...   ...  ...   \n",
      "468                 0   7271     Normal              101.6   NaN  ...   \n",
      "469                 0   4147     Normal              102.1   NaN  ...   \n",
      "470                 0    768     Normal              101.7   NaN  ...   \n",
      "471                 0   1193     Normal              101.1   NaN  ...   \n",
      "472                 0   2195     Normal              101.8   NaN  ...   \n",
      "\n",
      "     Time in bed (seconds)  Time asleep (seconds)  \\\n",
      "0                  28394.1                26027.9   \n",
      "1                  25737.6                23078.0   \n",
      "2                  26629.3                20770.8   \n",
      "3                  26802.4                23586.1   \n",
      "4                  27052.0                23174.5   \n",
      "..                     ...                    ...   \n",
      "468                21564.4                16892.1   \n",
      "469                25538.3                19749.6   \n",
      "470                23011.4                19176.2   \n",
      "471                19732.0                16509.1   \n",
      "472                20306.8                15771.6   \n",
      "\n",
      "     Time before sleep (seconds)         Window start          Window stop  \\\n",
      "0                         1514.4  2019-01-02 07:30:00  2019-01-02 08:00:00   \n",
      "1                          514.8  2019-01-03 07:30:00  2019-01-03 08:00:00   \n",
      "2                         5325.9  2019-01-04 07:30:00  2019-01-04 08:00:00   \n",
      "3                          536.0  2019-01-07 07:30:00  2019-01-07 08:00:00   \n",
      "4                          541.0  2019-01-08 07:30:00  2019-01-08 08:00:00   \n",
      "..                           ...                  ...                  ...   \n",
      "468                       1868.9  2023-01-20 08:00:00  2023-01-20 08:00:00   \n",
      "469                        510.8  2023-01-21 10:30:00  2023-01-21 10:30:00   \n",
      "470                        460.2  2023-01-22 10:00:00  2023-01-22 10:00:00   \n",
      "471                        394.6  2023-01-23 06:50:00  2023-01-23 06:50:00   \n",
      "472                       1353.8  2023-01-24 04:50:00  2023-01-24 04:50:00   \n",
      "\n",
      "    Did snore  Snore time  Weather temperature (°F)  Weather type Notes  \n",
      "0        True        66.0                      32.0    No weather   NaN  \n",
      "1        True         0.0                      32.0    No weather   NaN  \n",
      "2        True         0.0                      32.0    No weather   NaN  \n",
      "3        True         0.0                      32.0    No weather   NaN  \n",
      "4        True       806.0                      32.0    No weather   NaN  \n",
      "..        ...         ...                       ...           ...   ...  \n",
      "468      True       455.9                      32.0    No weather   NaN  \n",
      "469      True      4434.9                      32.0    No weather   NaN  \n",
      "470      True       164.2                      32.0    No weather   NaN  \n",
      "471      True      1114.7                      32.0    No weather   NaN  \n",
      "472      True      3205.7                      32.0    No weather   NaN  \n",
      "\n",
      "[473 rows x 21 columns]\n"
     ]
    }
   ],
   "source": [
    "#loading data\n",
    "data = pd.read_csv('sleepdata.csv',sep = ';')\n",
    "df = pd.DataFrame(data)\n",
    "print(df)"
   ]
  },
  {
   "cell_type": "code",
   "execution_count": 3,
   "id": "950d4e09",
   "metadata": {},
   "outputs": [
    {
     "name": "stdout",
     "output_type": "stream",
     "text": [
      "The average of overall Sleep Duration is: 05:43:24\n"
     ]
    }
   ],
   "source": [
    "#Avg overall SleepDuration\n",
    "\n",
    "#sleep_duration_list = df[\"Time asleep (seconds)\"].values.tolist()\n",
    "#print(sleep_duration_list)\n",
    "avg_sleep_duration = df[\"Time asleep (seconds)\"].mean()\n",
    "print(\"The average of overall Sleep Duration is:\", time.strftime('%H:%M:%S',time.gmtime(avg_sleep_duration)))"
   ]
  },
  {
   "cell_type": "code",
   "execution_count": 4,
   "id": "5674af2d",
   "metadata": {},
   "outputs": [
    {
     "name": "stdout",
     "output_type": "stream",
     "text": [
      "The average of last 30 days Sleep Duration is: 04:59:19\n"
     ]
    }
   ],
   "source": [
    "#Avg last 30 days SleepDuration\n",
    "\n",
    "#print(df[\"Time asleep (seconds)\"].iloc[-30:])\n",
    "last_30days_avg_sleep_duration = df[\"Time asleep (seconds)\"].iloc[-30:].mean()\n",
    "print(\"The average of last 30 days Sleep Duration is:\", time.strftime('%H:%M:%S',time.gmtime(last_30days_avg_sleep_duration)))"
   ]
  },
  {
   "cell_type": "code",
   "execution_count": 5,
   "id": "b7a132af",
   "metadata": {},
   "outputs": [
    {
     "name": "stdout",
     "output_type": "stream",
     "text": [
      "The average of bed time is: 06:40:14\n"
     ]
    }
   ],
   "source": [
    "#Avg overall Bed Time\n",
    "\n",
    "#sleep_duration_list = df[\"Time asleep (seconds)\"].values.tolist()\n",
    "#print(sleep_duration_list)\n",
    "avg_bedTime = df[\"Time in bed (seconds)\"].mean()\n",
    "print(\"The average of bed time is:\", time.strftime('%H:%M:%S',time.gmtime(avg_bedTime)))"
   ]
  },
  {
   "cell_type": "code",
   "execution_count": 6,
   "id": "68de16a6",
   "metadata": {},
   "outputs": [
    {
     "name": "stdout",
     "output_type": "stream",
     "text": [
      "The average of bed time is: 06:11:41\n"
     ]
    }
   ],
   "source": [
    "#Avg last 30 days Bed Time\n",
    "avg_30days_bedTime = df[\"Time in bed (seconds)\"].iloc[-30:].mean()\n",
    "print(\"The average of bed time is:\", time.strftime('%H:%M:%S',time.gmtime(avg_30days_bedTime)))"
   ]
  },
  {
   "cell_type": "code",
   "execution_count": 7,
   "id": "a2ee4d2b",
   "metadata": {},
   "outputs": [],
   "source": [
    "# Adding new data to dataframe\n",
    "#new_info = [] # from watch\n",
    "#df.loc[len(df.index)] = new_info\n",
    "#overwrite the current csv file\n",
    "df.to_csv('sleepdata.csv',index=False,sep =';',mode='w',float_format = '%.7f') "
   ]
  },
  {
   "cell_type": "code",
   "execution_count": null,
   "id": "d556dd96",
   "metadata": {},
   "outputs": [],
   "source": [
    "def get_sleep_recommendations(sleep_data):\n",
    "    \"\"\"\n",
    "    Returns a list of recommendations for sleeping better ranked in order of importance\n",
    "    \n",
    "    Parameters\n",
    "    ----------\n",
    "    sleep_data : pandas.DataFrame\n",
    "        DataFrame containing sleep data\n",
    " \n",
    "    Returns\n",
    "    -------\n",
    "    list of str\n",
    "        List of recommendations for sleeping better ranked in order of importance\n",
    "    \"\"\"\n",
    "    # Check for missing values in sleep_data\n",
    "    if sleep_data.isnull().values.any():\n",
    "        return [\"Error: Missing values in input data. Please check your data and try again.\"]\n",
    "    \n",
    "    # Analyze sleep data and create recommendations\n",
    "    recommendations = []\n",
    "    \n",
    "    # 1. Check sleep duration\n",
    "    avg_sleep_duration = sleep_data['sleep_duration'].mean()\n",
    "    if avg_sleep_duration < 7:\n",
    "        recommendations.append(\"Get at least 7 hours of sleep per night.\")\n",
    "    \n",
    "    # 2. Check bedtime consistency\n",
    "    avg_bedtime_diff = (sleep_data['bedtime'].diff().abs().mean()) / pd.Timedelta(hours=1)\n",
    "    if avg_bedtime_diff > 2:\n",
    "        recommendations.append(\"Try to maintain a consistent bedtime schedule.\")\n",
    "    \n",
    "    return recommendations"
   ]
  }
 ],
 "metadata": {
  "kernelspec": {
   "display_name": "Python 3 (ipykernel)",
   "language": "python",
   "name": "python3"
  },
  "language_info": {
   "codemirror_mode": {
    "name": "ipython",
    "version": 3
   },
   "file_extension": ".py",
   "mimetype": "text/x-python",
   "name": "python",
   "nbconvert_exporter": "python",
   "pygments_lexer": "ipython3",
   "version": "3.10.9"
  }
 },
 "nbformat": 4,
 "nbformat_minor": 5
}
