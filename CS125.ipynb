{
 "cells": [
  {
   "cell_type": "code",
   "execution_count": 120,
   "id": "4be58262",
   "metadata": {},
   "outputs": [],
   "source": [
    "import pandas as pd\n",
    "import numpy as np\n",
    "import time\n"
   ]
  },
  {
   "cell_type": "markdown",
   "id": "8245a063",
   "metadata": {},
   "source": [
    "1. Loading csv file"
   ]
  },
  {
   "cell_type": "code",
   "execution_count": 122,
   "id": "38d0395e",
   "metadata": {},
   "outputs": [
    {
     "name": "stdout",
     "output_type": "stream",
     "text": [
      "                   Start                  End Sleep Quality Regularity  Mood  \\\n",
      "0    2019-01-02 00:04:23  2019-01-02 07:57:37           70%         0%   NaN   \n",
      "1    2019-01-03 00:31:40  2019-01-03 07:40:37           65%         0%   NaN   \n",
      "2    2019-01-04 00:17:13  2019-01-04 07:41:03           68%        98%   NaN   \n",
      "3    2019-01-07 00:13:22  2019-01-07 07:40:04           63%        99%   NaN   \n",
      "4    2019-01-08 00:21:30  2019-01-08 07:52:22           77%        97%   NaN   \n",
      "..                   ...                  ...           ...        ...   ...   \n",
      "468  2023-01-20 02:01:51  2023-01-20 08:01:16           66%        84%   NaN   \n",
      "469  2023-01-21 03:37:34  2023-01-21 10:43:13           70%        78%   NaN   \n",
      "470  2023-01-22 03:36:55  2023-01-22 10:00:27           50%        79%   NaN   \n",
      "471  2023-01-23 01:32:49  2023-01-23 07:01:41           53%        72%   NaN   \n",
      "472  2023-01-23 23:21:27  2023-01-24 04:59:54           58%        72%   NaN   \n",
      "\n",
      "     Heart rate (bpm)  Steps Alarm mode  Air Pressure (Pa)  City  ...  \\\n",
      "0                   0      0     Normal              102.3   NaN  ...   \n",
      "1                   0      0     Normal              102.7   NaN  ...   \n",
      "2                   0      0     Normal              102.3   NaN  ...   \n",
      "3                   0      0     Normal              102.4   NaN  ...   \n",
      "4                   0      0     Normal              102.5   NaN  ...   \n",
      "..                ...    ...        ...                ...   ...  ...   \n",
      "468                 0   7271     Normal              101.6   NaN  ...   \n",
      "469                 0   4147     Normal              102.1   NaN  ...   \n",
      "470                 0    768     Normal              101.7   NaN  ...   \n",
      "471                 0   1193     Normal              101.1   NaN  ...   \n",
      "472                 0   2195     Normal              101.8   NaN  ...   \n",
      "\n",
      "     Time in bed (seconds)  Time asleep (seconds)  \\\n",
      "0                  28394.1                26027.9   \n",
      "1                  25737.6                23078.0   \n",
      "2                  26629.3                20770.8   \n",
      "3                  26802.4                23586.1   \n",
      "4                  27052.0                23174.5   \n",
      "..                     ...                    ...   \n",
      "468                21564.4                16892.1   \n",
      "469                25538.3                19749.6   \n",
      "470                23011.4                19176.2   \n",
      "471                19732.0                16509.1   \n",
      "472                20306.8                15771.6   \n",
      "\n",
      "     Time before sleep (seconds)         Window start          Window stop  \\\n",
      "0                         1514.4  2019-01-02 07:30:00  2019-01-02 08:00:00   \n",
      "1                          514.8  2019-01-03 07:30:00  2019-01-03 08:00:00   \n",
      "2                         5325.9  2019-01-04 07:30:00  2019-01-04 08:00:00   \n",
      "3                          536.0  2019-01-07 07:30:00  2019-01-07 08:00:00   \n",
      "4                          541.0  2019-01-08 07:30:00  2019-01-08 08:00:00   \n",
      "..                           ...                  ...                  ...   \n",
      "468                       1868.9  2023-01-20 08:00:00  2023-01-20 08:00:00   \n",
      "469                        510.8  2023-01-21 10:30:00  2023-01-21 10:30:00   \n",
      "470                        460.2  2023-01-22 10:00:00  2023-01-22 10:00:00   \n",
      "471                        394.6  2023-01-23 06:50:00  2023-01-23 06:50:00   \n",
      "472                       1353.8  2023-01-24 04:50:00  2023-01-24 04:50:00   \n",
      "\n",
      "    Did snore  Snore time  Weather temperature (°F)  Weather type Notes  \n",
      "0        True        66.0                      32.0    No weather   NaN  \n",
      "1        True         0.0                      32.0    No weather   NaN  \n",
      "2        True         0.0                      32.0    No weather   NaN  \n",
      "3        True         0.0                      32.0    No weather   NaN  \n",
      "4        True       806.0                      32.0    No weather   NaN  \n",
      "..        ...         ...                       ...           ...   ...  \n",
      "468      True       455.9                      32.0    No weather   NaN  \n",
      "469      True      4434.9                      32.0    No weather   NaN  \n",
      "470      True       164.2                      32.0    No weather   NaN  \n",
      "471      True      1114.7                      32.0    No weather   NaN  \n",
      "472      True      3205.7                      32.0    No weather   NaN  \n",
      "\n",
      "[473 rows x 21 columns]\n"
     ]
    }
   ],
   "source": [
    "#loading data\n",
    "data = pd.read_csv('sleepdata.csv',sep = ';')\n",
    "#recommendationItems = pd.read_csv('recommendationItems.csv',sep =',')\n",
    "df = pd.DataFrame(data)\n",
    "print(df)"
   ]
  },
  {
   "cell_type": "markdown",
   "id": "fcdc88f0",
   "metadata": {},
   "source": [
    "2. Methods"
   ]
  },
  {
   "cell_type": "code",
   "execution_count": 123,
   "id": "757ee775",
   "metadata": {},
   "outputs": [],
   "source": [
    "def showHistogram(dataFrame,x_axis_label,y_axis_label):\n",
    "    temp = dataFrame\n",
    "    dataFrameLength = len(temp)\n",
    "    #print(dataFrameLength)\n",
    "    \n",
    "    hist = temp.plot(kind = \"bar\",x=x_axis_label, y = y_axis_label ,legend = False)\n",
    "    hist.set_title(y_axis_label)\n",
    "    hist.set_xlabel(\"\")\n",
    "    "
   ]
  },
  {
   "cell_type": "code",
   "execution_count": 134,
   "id": "90a761ea",
   "metadata": {},
   "outputs": [],
   "source": [
    "# 1 sleep cycle = 90 mins = 5400 s\n",
    "# 6 cycles, 9h of sleep = 32400s - recommended for long-sleepers \n",
    "# 5 cycles, 7h30m of sleep = 27000s - recommended for average-sleepers\n",
    "# 4 cycles, 6h of sleep - recommended for short-sleepers\n",
    "def idealSleepTime(sleeper,sleep_duration):\n",
    "    message = \"\"\n",
    "    if(sleeper == 1 ):\n",
    "        message+=\"We determine you as a short sleeper. \"\n",
    "        if(sleep_duration<= 18000):                     #less than 5 hr of sleep\n",
    "            message+=\"You didn't get enough sleep last night. Try to get at least 6h of sleep(4 sleep cycles).\"\n",
    "        else:\n",
    "            message+=\"Keep up with your current sleep routine.\"\n",
    "    elif(sleeper == 2):\n",
    "        message+=\"We determine you as an average sleeper. \"\n",
    "        if(sleep_duration<= 23400):                      #less than 6 hr and 30 mins of sleep\n",
    "            message+=\"You didn't get enough sleep last night. Try to get at least 7h and 30 mins of sleep(5 sleep cycles).\"\n",
    "        else:\n",
    "            message+=\"Keep up with your current sleep routine.\"\n",
    "    else:\n",
    "        message+=\"We determine you as a long sleeper. \"\n",
    "        if(sleep_duration<= 28800):                      #less than 8 hr of sleep\n",
    "            message+=\"You didn't get enough sleep last night. Try to get at least 9h of sleep(6 sleep cycles).\"\n",
    "        else:\n",
    "            message+=\"Keep up with your current sleep routine.\"\n",
    "    return message\n",
    "    \n",
    "    "
   ]
  },
  {
   "cell_type": "markdown",
   "id": "58e65894",
   "metadata": {},
   "source": [
    "3. Statistics"
   ]
  },
  {
   "cell_type": "code",
   "execution_count": 125,
   "id": "950d4e09",
   "metadata": {},
   "outputs": [
    {
     "name": "stdout",
     "output_type": "stream",
     "text": [
      "The average of overall Sleep Duration is: 05:43:24\n",
      "The average of last 30 days Sleep Duration is: 04:59:19\n",
      "The average of last 7 days Sleep Duration is: 04:48:57\n",
      "Yesterday's Sleep Duration is: 04:22:51\n"
     ]
    }
   ],
   "source": [
    "#SleepDuration\n",
    "\n",
    "#AVG_OVERALL_SLEEP_DURATION\n",
    "avg_sleep_duration = df[\"Time asleep (seconds)\"].mean()    # (seconds)\n",
    "print(\"The average of overall Sleep Duration is:\", time.strftime('%H:%M:%S',time.gmtime(avg_sleep_duration)))\n",
    "\n",
    "#Avg last 30 days SleepDuration\n",
    "#print(df[\"Time asleep (seconds)\"].iloc[-30:])             # get the last 30 rows of data with column = \"Time asleep (seconds)\"\n",
    "last_30days_avg_sleep_duration = df[\"Time asleep (seconds)\"].iloc[-30:].mean()\n",
    "print(\"The average of last 30 days Sleep Duration is:\", time.strftime('%H:%M:%S',time.gmtime(last_30days_avg_sleep_duration)))\n",
    "\n",
    "#Avg Last 7days SleepDuration\n",
    "last_7days_avg_sleep_duration = df[\"Time asleep (seconds)\"].iloc[-7:].mean()\n",
    "print(\"The average of last 7 days Sleep Duration is:\", time.strftime('%H:%M:%S',time.gmtime(last_7days_avg_sleep_duration)))\n",
    "\n",
    "#Yesterday's SleepDuration\n",
    "yesterday_sleep_duration = df[\"Time asleep (seconds)\"].iloc[-1:].mean()\n",
    "print(\"Yesterday's Sleep Duration is:\", time.strftime('%H:%M:%S',time.gmtime(yesterday_sleep_duration)))"
   ]
  },
  {
   "cell_type": "code",
   "execution_count": 126,
   "id": "da346102",
   "metadata": {},
   "outputs": [
    {
     "data": {
      "image/png": "[encoded data removed]",
      "text/plain": [
       "<Figure size 640x480 with 1 Axes>"
      ]
     },
     "metadata": {},
     "output_type": "display_data"
    }
   ],
   "source": [
    "showHistogram(df.iloc[-7:],\"End\",\"Time asleep (seconds)\")"
   ]
  },
  {
   "cell_type": "code",
   "execution_count": 127,
   "id": "5674af2d",
   "metadata": {},
   "outputs": [
    {
     "name": "stdout",
     "output_type": "stream",
     "text": [
      "The average of bedtime is: 06:40:14\n",
      "The average of last 30 days bedtime is: 06:11:41\n",
      "The average of last 7 days bedtime is: 06:01:49\n",
      "Yesterday's bedtime is: 05:38:26\n"
     ]
    }
   ],
   "source": [
    "#Bedtime\n",
    "\n",
    "#Avg overall bedtime\n",
    "avg_bedTime = df[\"Time in bed (seconds)\"].mean()\n",
    "print(\"The average of bedtime is:\", time.strftime('%H:%M:%S',time.gmtime(avg_bedTime)))\n",
    "\n",
    "#Avg last 30 days bedtime\n",
    "avg_30days_bedTime = df[\"Time in bed (seconds)\"].iloc[-30:].mean()\n",
    "print(\"The average of last 30 days bedtime is:\", time.strftime('%H:%M:%S',time.gmtime(avg_30days_bedTime)))\n",
    "\n",
    "#Avg last 7 days bedtime\n",
    "avg_7days_bedTime = df[\"Time in bed (seconds)\"].iloc[-7:].mean()\n",
    "print(\"The average of last 7 days bedtime is:\", time.strftime('%H:%M:%S',time.gmtime(avg_7days_bedTime)))\n",
    "\n",
    "#Yesterday's bedtime\n",
    "yesterday_bedTime = df[\"Time in bed (seconds)\"].iloc[-1:].mean()\n",
    "print(\"Yesterday's bedtime is:\",time.strftime('%H:%M:%S',time.gmtime(yesterday_bedTime)))"
   ]
  },
  {
   "cell_type": "code",
   "execution_count": 128,
   "id": "7a09afdf",
   "metadata": {},
   "outputs": [
    {
     "name": "stdout",
     "output_type": "stream",
     "text": [
      "The average of time before sleep is: 00:17:57\n",
      "The average of last 30 days time before sleep is: 00:16:17\n",
      "The average of last 7 days time before sleep is: 00:17:22\n",
      "Yesterday's time before sleep is: 00:22:33\n"
     ]
    }
   ],
   "source": [
    "#Time before sleep\n",
    "\n",
    "#Avg overall time before sleep\n",
    "avg_time_before_sleep = df[\"Time before sleep (seconds)\"].mean()\n",
    "print(\"The average of time before sleep is:\",time.strftime('%H:%M:%S',time.gmtime(avg_time_before_sleep)))\n",
    "\n",
    "#Avg last 30 days time before sleep\n",
    "avg_30days_time_before_sleep = df[\"Time before sleep (seconds)\"].iloc[-30:].mean()\n",
    "print(\"The average of last 30 days time before sleep is:\",time.strftime('%H:%M:%S',time.gmtime(avg_30days_time_before_sleep)))\n",
    "\n",
    "#Avg last 7 days time before sleep\n",
    "avg_7days_time_before_sleep = df[\"Time before sleep (seconds)\"].iloc[-7:].mean()\n",
    "print(\"The average of last 7 days time before sleep is:\",time.strftime('%H:%M:%S',time.gmtime(avg_7days_time_before_sleep)))\n",
    "\n",
    "#Avg overall time before sleep\n",
    "yesterday_time_before_sleep = df[\"Time before sleep (seconds)\"].iloc[-1:].mean()\n",
    "print(\"Yesterday's time before sleep is:\",time.strftime('%H:%M:%S',time.gmtime(yesterday_time_before_sleep)))"
   ]
  },
  {
   "cell_type": "code",
   "execution_count": 129,
   "id": "b7a132af",
   "metadata": {},
   "outputs": [
    {
     "name": "stdout",
     "output_type": "stream",
     "text": [
      "The avergae of overall steps are: 2792\n",
      "The avergae of last 30 days steps are: 3135\n",
      "The avergae of last 7 days steps are: 4419\n",
      "Yesterday's steps are: 2195\n"
     ]
    }
   ],
   "source": [
    "#Steps\n",
    "\n",
    "#Avg overall steps\n",
    "avg_steps = df[\"Steps\"].mean() # There are several days the steps are 0\n",
    "print(\"The avergae of overall steps are:\", int(avg_steps))\n",
    "\n",
    "#Avg last 30 days steps\n",
    "avg_30days_steps = df[\"Steps\"].iloc[-30:].mean() \n",
    "print(\"The avergae of last 30 days steps are:\", int(avg_30days_steps))\n",
    "\n",
    "#Avg last 7 days steps\n",
    "avg_7days_steps = df[\"Steps\"].iloc[-7:].mean() \n",
    "print(\"The avergae of last 7 days steps are:\", int(avg_7days_steps))\n",
    "\n",
    "#Yesterday's steps\n",
    "yesterday_steps = df[\"Steps\"].iloc[-1:].mean() \n",
    "print(\"Yesterday's steps are:\", int(yesterday_steps))\n"
   ]
  },
  {
   "cell_type": "code",
   "execution_count": 130,
   "id": "68de16a6",
   "metadata": {},
   "outputs": [
    {
     "name": "stdout",
     "output_type": "stream",
     "text": [
      "The average of last 30 days sleep quality is: 59.5\n",
      "The average of last 7 days sleep quality is: 59.4\n",
      "Yesterday's sleep quality is: 58.0\n"
     ]
    }
   ],
   "source": [
    "#Sleep quality\n",
    "\n",
    "#Avg last 30 days sleep quality\n",
    "avg_30days_sleep_quality = df[\"Sleep Quality\"].iloc[-30:].str.rstrip(\"%\").astype(float).mean()\n",
    "print(\"The average of last 30 days sleep quality is: %.1f\" % avg_30days_sleep_quality)\n",
    "\n",
    "#Avg last 7 days sleep quality\n",
    "avg_7days_sleep_quality = df[\"Sleep Quality\"].iloc[-7:].str.rstrip(\"%\").astype(float).mean()\n",
    "print(\"The average of last 7 days sleep quality is: %.1f\" % avg_7days_sleep_quality)\n",
    "\n",
    "#Yesterday sleep quality\n",
    "yesterday_sleep_quality = df[\"Sleep Quality\"].iloc[-1:].str.rstrip(\"%\").astype(float).mean()\n",
    "print(\"Yesterday's sleep quality is: %.1f\" % yesterday_sleep_quality)\n"
   ]
  },
  {
   "cell_type": "code",
   "execution_count": 131,
   "id": "91a842e5",
   "metadata": {},
   "outputs": [
    {
     "name": "stdout",
     "output_type": "stream",
     "text": [
      "Last 30 days total snore counts: 30 / 30\n",
      "Last 7 days total snore counts: 7 / 7\n",
      "Did snore yesterday? True\n"
     ]
    }
   ],
   "source": [
    "#Snore counts\n",
    "\n",
    "last_30days_snore_counts = df[\"Did snore\"].iloc[-30:].sum()\n",
    "print(\"Last 30 days total snore counts:\",last_30days_snore_counts,\"/ 30\")\n",
    "last_7days_snore_counts = df[\"Did snore\"].iloc[-7:].sum()\n",
    "print(\"Last 7 days total snore counts:\",last_7days_snore_counts,\"/ 7\")\n",
    "yesterday_snore_count = df[\"Did snore\"].iloc[-1:].sum()\n",
    "print(\"Did snore yesterday?\",yesterday_snore_count == 1)"
   ]
  },
  {
   "cell_type": "code",
   "execution_count": 175,
   "id": "d556dd96",
   "metadata": {},
   "outputs": [],
   "source": [
    "def get_sleep_recommendations(sleep_data):\n",
    "    \"\"\"\n",
    "    Returns a list of recommendations for sleeping better ranked in order of importance\n",
    "    \n",
    "    Parameters\n",
    "    ----------\n",
    "    sleep_data : pandas.DataFrame\n",
    "        DataFrame containing sleep data\n",
    " \n",
    "    Returns\n",
    "    -------\n",
    "    list of str\n",
    "        List of recommendations for sleeping better ranked in order of importance\n",
    "    \"\"\"\n",
    "    # Check for missing values in sleep_data\n",
    "    #if sleep_data.isnull().values.any():\n",
    "    #    return [\"Error: Missing values in input data. Please check your data and try again.\"]\n",
    "    \n",
    "    #determine what kind of sleeper the user is based on prev sleep_duration data\n",
    "    # 1:short-sleeper, 2:average-sleeper, 3:long-sleeper, by default sleeper = 2\n",
    "    sleeper = -1\n",
    "    if(len(sleep_data)<7):\n",
    "        sleeper = 2\n",
    "    else:\n",
    "        if(df[\"Time asleep (seconds)\"].iloc[-7:].mean()>=28800):\n",
    "            sleeper = 3\n",
    "        elif(df[\"Time asleep (seconds)\"].iloc[-7:].mean()>=23400):\n",
    "            sleeper = 2\n",
    "        else:\n",
    "            sleeper = 1\n",
    "    # Analyze sleep data and create recommendations\n",
    "    recommendations = []\n",
    "    \n",
    "    # 1. give recommendation based on sleeper type and sleep duration\n",
    "    recommendations.append(idealSleepTime(sleeper,df[\"Time asleep (seconds)\"].iloc[-1:].mean()))\n",
    "    \n",
    "    # 2. give recommendation for bedtime\n",
    "    \n",
    "    # 3. give recommendations from List of items and exercises that help with sleep\n",
    "    \n",
    "    recommendations.append(\"1.Get some sunlight during the day.\")\n",
    "    recommendations.append(\"2.Meditate before bed.\")\n",
    "    recommendations.append(\"3.Avoid large meals before bed.\")\n",
    "    recommendations.append(\"4.Avoid naps during the day.\")\n",
    "    recommendations.append(\"5.Avoid electronics before bed\")\n",
    "    \n",
    "    return recommendations"
   ]
  },
  {
   "cell_type": "code",
   "execution_count": 176,
   "id": "cdede916",
   "metadata": {},
   "outputs": [
    {
     "name": "stdout",
     "output_type": "stream",
     "text": [
      "We determine you as a short sleeper. You didn't get enough sleep last night. Try to get at least 6h of sleep(4 sleep cycles).\n",
      "\n",
      "\n",
      "1.Get some sunlight during the day.\n",
      "\n",
      "\n",
      "2.Meditate before bed.\n",
      "\n",
      "\n",
      "3.Avoid large meals before bed.\n",
      "\n",
      "\n",
      "4.Avoid naps during the day.\n",
      "\n",
      "\n",
      "5.Avoid electronics before bed\n",
      "\n",
      "\n"
     ]
    }
   ],
   "source": [
    "recom = get_sleep_recommendations(df)\n",
    "for i in recom:\n",
    "    print(i)\n",
    "    print('\\n')"
   ]
  },
  {
   "cell_type": "code",
   "execution_count": 7,
   "id": "a2ee4d2b",
   "metadata": {},
   "outputs": [],
   "source": [
    "# Adding new data to dataframe\n",
    "#new_info = [] # from watch\n",
    "#df.loc[len(df.index)] = new_info\n",
    "#overwrite the current csv file\n",
    "df.to_csv('sleepdata.csv',index=False,sep =';',mode='w',float_format = '%.7f') "
   ]
  }
 ],
 "metadata": {
  "kernelspec": {
   "display_name": "Python 3 (ipykernel)",
   "language": "python",
   "name": "python3"
  },
  "language_info": {
   "codemirror_mode": {
    "name": "ipython",
    "version": 3
   },
   "file_extension": ".py",
   "mimetype": "text/x-python",
   "name": "python",
   "nbconvert_exporter": "python",
   "pygments_lexer": "ipython3",
   "version": "3.10.9"
  },
  "vscode": {
   "interpreter": {
    "hash": "699a919fd017f611b8895dd4781467718c0c22383bd7dfb1f8acc7f8b0b12846"
   }
  }
 },
 "nbformat": 4,
 "nbformat_minor": 5
}
